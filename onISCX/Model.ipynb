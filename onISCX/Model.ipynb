{
 "cells": [
  {
   "cell_type": "code",
   "execution_count": 1,
   "metadata": {},
   "outputs": [],
   "source": [
    "import numpy as np\n",
    "import pandas as pd\n",
    "import matplotlib.pyplot as plt\n",
    "import seaborn as sns\n",
    "from sklearn.model_selection import train_test_split, GridSearchCV, RandomizedSearchCV\n",
    "from sklearn.preprocessing import StandardScaler\n",
    "from sklearn.linear_model import LogisticRegression, LinearRegression, SGDClassifier\n",
    "from sklearn.tree import DecisionTreeClassifier\n",
    "from sklearn.ensemble import RandomForestClassifier, AdaBoostClassifier, GradientBoostingClassifier, ExtraTreesClassifier, BaggingClassifier\n",
    "from sklearn.svm import SVC, LinearSVC\n",
    "from sklearn.metrics import precision_score, recall_score, confusion_matrix, classification_report, accuracy_score, f1_score, ConfusionMatrixDisplay\n",
    "from sklearn.neighbors import KNeighborsClassifier\n",
    "\n",
    "# from xgboost import XGBClassifier\n",
    "import pickle\n",
    "\n",
    "import warnings\n",
    "warnings.filterwarnings(\"ignore\")"
   ]
  },
  {
   "cell_type": "code",
   "execution_count": 2,
   "metadata": {},
   "outputs": [],
   "source": [
    "import random\n",
    "random.seed(42)"
   ]
  },
  {
   "cell_type": "code",
   "execution_count": 3,
   "metadata": {},
   "outputs": [],
   "source": [
    "df = pd.read_csv('./url_updated.csv')"
   ]
  },
  {
   "cell_type": "code",
   "execution_count": 4,
   "metadata": {},
   "outputs": [
    {
     "data": {
      "text/plain": [
       "0    0.780231\n",
       "1    0.219769\n",
       "Name: label, dtype: float64"
      ]
     },
     "execution_count": 4,
     "metadata": {},
     "output_type": "execute_result"
    }
   ],
   "source": [
    "df['label'].value_counts(normalize=True)"
   ]
  },
  {
   "cell_type": "code",
   "execution_count": 5,
   "metadata": {},
   "outputs": [],
   "source": [
    "x = df[['hostname_length','url_length',\n",
    "       'path_length', 'fd_length', 'spcl_char', 'count-http','count-https', 'count-www', 'count-digits',\n",
    "       'count-letters', 'count_dir','path_entropy','subdomain']]\n",
    "y = df['label']\n",
    "\n",
    "X_train, X_test, y_train, y_test = train_test_split(x,y,random_state = 42, stratify = y )"
   ]
  },
  {
   "cell_type": "code",
   "execution_count": 6,
   "metadata": {},
   "outputs": [],
   "source": [
    "ss = StandardScaler()\n",
    "\n",
    "X_train_sc = ss.fit_transform(X_train)\n",
    "\n",
    "X_test_sc = ss.transform(X_test)"
   ]
  },
  {
   "cell_type": "code",
   "execution_count": 7,
   "metadata": {},
   "outputs": [],
   "source": [
    "def get_scores_sc(model):\n",
    "    \n",
    "    # instantiate model\n",
    "    model = model()\n",
    "    \n",
    "    # fit to scaled data\n",
    "    model.fit(X_train_sc, y_train)\n",
    "    \n",
    "    # make predictions\n",
    "    preds = model.predict(X_test_sc)\n",
    "\n",
    "    # print results\n",
    "    print(f'{model} Training Score: {model.score(X_train_sc, y_train)}')\n",
    "    print(f'{model} Testing Score: {model.score(X_test_sc, y_test)}')\n",
    "    print()\n",
    "    print(classification_report(y_test, preds))\n",
    "    print(confusion_matrix(y_test, preds))\n",
    "    return"
   ]
  },
  {
   "cell_type": "code",
   "execution_count": 8,
   "metadata": {},
   "outputs": [],
   "source": [
    "def get_scores(model):\n",
    "    \n",
    "    # instantiate model\n",
    "    model = model()\n",
    "    \n",
    "    # fit to data\n",
    "    model.fit(X_train, y_train)\n",
    "    \n",
    "    # make predictions\n",
    "    preds = model.predict(X_test)\n",
    "\n",
    "    # print results\n",
    "    print(f'{model} Training Score: {model.score(X_train, y_train)}')\n",
    "    print(f'{model} Testing Score: {model.score(X_test, y_test)}')\n",
    "    print()\n",
    "    print(classification_report(y_test, preds))\n",
    "    print(confusion_matrix(y_test, preds))\n",
    "\n",
    "    return"
   ]
  },
  {
   "cell_type": "code",
   "execution_count": 9,
   "metadata": {},
   "outputs": [
    {
     "name": "stdout",
     "output_type": "stream",
     "text": [
      "DecisionTreeClassifier() Training Score: 1.0\n",
      "DecisionTreeClassifier() Testing Score: 0.9947953422724065\n",
      "\n",
      "              precision    recall  f1-score   support\n",
      "\n",
      "           0       1.00      1.00      1.00      8845\n",
      "           1       0.99      0.99      0.99      2491\n",
      "\n",
      "    accuracy                           0.99     11336\n",
      "   macro avg       0.99      0.99      0.99     11336\n",
      "weighted avg       0.99      0.99      0.99     11336\n",
      "\n",
      "[[8817   28]\n",
      " [  31 2460]]\n"
     ]
    }
   ],
   "source": [
    "get_scores(DecisionTreeClassifier)"
   ]
  },
  {
   "cell_type": "code",
   "execution_count": 10,
   "metadata": {},
   "outputs": [
    {
     "name": "stdout",
     "output_type": "stream",
     "text": [
      "BaggingClassifier() Training Score: 0.999500102919987\n",
      "BaggingClassifier() Testing Score: 0.9962949894142554\n",
      "\n",
      "              precision    recall  f1-score   support\n",
      "\n",
      "           0       1.00      1.00      1.00      8845\n",
      "           1       1.00      0.98      0.99      2491\n",
      "\n",
      "    accuracy                           1.00     11336\n",
      "   macro avg       1.00      0.99      0.99     11336\n",
      "weighted avg       1.00      1.00      1.00     11336\n",
      "\n",
      "[[8841    4]\n",
      " [  38 2453]]\n"
     ]
    }
   ],
   "source": [
    "get_scores(BaggingClassifier)"
   ]
  },
  {
   "cell_type": "code",
   "execution_count": 11,
   "metadata": {},
   "outputs": [
    {
     "name": "stdout",
     "output_type": "stream",
     "text": [
      "RandomForestClassifier() Training Score: 1.0\n",
      "RandomForestClassifier() Testing Score: 0.9965596330275229\n",
      "\n",
      "              precision    recall  f1-score   support\n",
      "\n",
      "           0       1.00      1.00      1.00      8845\n",
      "           1       1.00      0.99      0.99      2491\n",
      "\n",
      "    accuracy                           1.00     11336\n",
      "   macro avg       1.00      0.99      0.99     11336\n",
      "weighted avg       1.00      1.00      1.00     11336\n",
      "\n",
      "[[8841    4]\n",
      " [  35 2456]]\n"
     ]
    }
   ],
   "source": [
    "get_scores(RandomForestClassifier)"
   ]
  },
  {
   "cell_type": "code",
   "execution_count": null,
   "metadata": {},
   "outputs": [],
   "source": []
  },
  {
   "cell_type": "markdown",
   "metadata": {},
   "source": [
    "### Model Optimization"
   ]
  },
  {
   "cell_type": "code",
   "execution_count": 73,
   "metadata": {},
   "outputs": [],
   "source": [
    "# rfc = RandomForestClassifier()\n",
    "# rfc_params = {'bootstrap': [True, False],\n",
    "#                'max_depth': [10, 20, 30, 40, 50, 60, 70, 80, 90, 100, None],\n",
    "#                'max_features': ['auto', 'sqrt'],\n",
    "#                'min_samples_leaf': [1, 2, 4],\n",
    "#                'min_samples_split': [2, 5, 10],\n",
    "#                'n_estimators': [200, 400, 600, 800, 1000, 1200, 1400, 1600]}\n",
    "\n",
    "# rfc_random = RandomizedSearchCV(estimator = rfc, param_distributions = rfc_params, cv = 3, verbose=2, random_state=42, \n",
    "#                                 n_jobs = -1)\n",
    "# rfc_random.fit(X_train, y_train)\n",
    "# print(f'Best Parameters: {rfc_random.best_params_}')"
   ]
  },
  {
   "cell_type": "code",
   "execution_count": 12,
   "metadata": {},
   "outputs": [
    {
     "name": "stdout",
     "output_type": "stream",
     "text": [
      "Training Score: 0.9995589143411651\n",
      "Testing Score: 0.9963832039520113\n",
      "\n",
      "              precision    recall  f1-score   support\n",
      "\n",
      "           0       1.00      1.00      1.00      8845\n",
      "           1       1.00      0.99      0.99      2491\n",
      "\n",
      "    accuracy                           1.00     11336\n",
      "   macro avg       1.00      0.99      0.99     11336\n",
      "weighted avg       1.00      1.00      1.00     11336\n",
      "\n",
      "[[8841    4]\n",
      " [  37 2454]]\n"
     ]
    },
    {
     "data": {
      "text/plain": [
       "<sklearn.metrics._plot.confusion_matrix.ConfusionMatrixDisplay at 0x1b72a965ea0>"
      ]
     },
     "execution_count": 12,
     "metadata": {},
     "output_type": "execute_result"
    },
    {
     "data": {
      "image/png": "[encoded data removed]",
      "text/plain": [
       "<Figure size 640x480 with 2 Axes>"
      ]
     },
     "metadata": {},
     "output_type": "display_data"
    }
   ],
   "source": [
    "rfc = RandomForestClassifier(n_estimators = 1400, min_samples_split= 5, min_samples_leaf= 1, max_features= 'sqrt', max_depth= 90, \n",
    "                             bootstrap= True, n_jobs= -1, random_state=42)\n",
    "rfc.fit(X_train, y_train)\n",
    "\n",
    "preds = rfc.predict(X_test)\n",
    "print(f'Training Score: {rfc.score(X_train, y_train)}')\n",
    "print(f'Testing Score: {rfc.score(X_test, y_test)}')\n",
    "print()\n",
    "print(classification_report(y_test,preds))\n",
    "print(confusion_matrix(y_test, preds))\n",
    "\n",
    "cm = confusion_matrix(y_test, preds)\n",
    "disp = ConfusionMatrixDisplay(confusion_matrix = cm, display_labels = rfc.classes_)\n",
    "disp.plot(cmap = 'Reds', values_format='')"
   ]
  },
  {
   "cell_type": "code",
   "execution_count": 14,
   "metadata": {},
   "outputs": [
    {
     "name": "stdout",
     "output_type": "stream",
     "text": [
      "Variable: url_length           Importance: 0.246\n",
      "Variable: hostname_length      Importance: 0.198\n",
      "Variable: subdomain            Importance: 0.127\n",
      "Variable: count-www            Importance: 0.12\n",
      "Variable: path_length          Importance: 0.079\n",
      "Variable: count-letters        Importance: 0.073\n",
      "Variable: spcl_char            Importance: 0.055\n",
      "Variable: count-digits         Importance: 0.03\n",
      "Variable: path_entropy         Importance: 0.027\n",
      "Variable: fd_length            Importance: 0.017\n",
      "Variable: count_dir            Importance: 0.015\n",
      "Variable: count-http           Importance: 0.01\n",
      "Variable: count-https          Importance: 0.003\n"
     ]
    },
    {
     "data": {
      "text/plain": [
       "[None, None, None, None, None, None, None, None, None, None, None, None, None]"
      ]
     },
     "execution_count": 14,
     "metadata": {},
     "output_type": "execute_result"
    }
   ],
   "source": [
    "\n",
    "feature_list = list(x.columns)\n",
    "\n",
    "importances = list(rfc.feature_importances_)\n",
    "\n",
    "feature_importances = [(feature, round(importance, 3)) for feature, importance in zip(feature_list, importances)]\n",
    "\n",
    "feature_importances = sorted(feature_importances, key = lambda x: x[1], reverse = True)\n",
    "\n",
    "[print('Variable: {:20} Importance: {}'.format(*pair)) for pair in feature_importances]"
   ]
  }
 ],
 "metadata": {
  "kernelspec": {
   "display_name": "base",
   "language": "python",
   "name": "python3"
  },
  "language_info": {
   "codemirror_mode": {
    "name": "ipython",
    "version": 3
   },
   "file_extension": ".py",
   "mimetype": "text/x-python",
   "name": "python",
   "nbconvert_exporter": "python",
   "pygments_lexer": "ipython3",
   "version": "3.10.9"
  },
  "orig_nbformat": 4
 },
 "nbformat": 4,
 "nbformat_minor": 2
}
